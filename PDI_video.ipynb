{
 "cells": [
  {
   "cell_type": "code",
   "execution_count": 1,
   "metadata": {},
   "outputs": [],
   "source": [
    "import cv2\n",
    "\n",
    "# Cria o objeto para capturar o vídeo da webcam\n",
    "cap = cv2.VideoCapture(0)\n",
    "\n",
    "# Cria o objeto para o algoritmo MOG2\n",
    "fgbg = cv2.createBackgroundSubtractorMOG2()\n",
    "\n",
    "# Loop para capturar e processar o vídeo\n",
    "while True:\n",
    "    # Captura um quadro do vídeo\n",
    "    ret, frame = cap.read()\n",
    "\n",
    "    # Aplica o algoritmo MOG2 para remover o fundo do quadro\n",
    "    fgmask = fgbg.apply(frame)\n",
    "\n",
    "    # Aplica um filtro de desfoque gaussiano para suavizar as bordas\n",
    "    blur = cv2.GaussianBlur(frame, (21, 21), 0)\n",
    "\n",
    "    # Aplica a máscara resultante do algoritmo MOG2 no quadro original\n",
    "    res = cv2.bitwise_and(blur, blur, mask=fgmask)\n",
    "\n",
    "    # Exibe o quadro resultante em uma janela\n",
    "    cv2.imshow('Video', res)\n",
    "\n",
    "    # Verifica se a tecla 'q' foi pressionada para sair do loop\n",
    "    if cv2.waitKey(1) & 0xFF == ord('q'):\n",
    "        break\n",
    "\n",
    "# Libera os recursos e fecha a janela\n",
    "cap.release()\n",
    "cv2.destroyAllWindows()"
   ]
  }
 ],
 "metadata": {
  "kernelspec": {
   "display_name": "Python 3",
   "language": "python",
   "name": "python3"
  },
  "language_info": {
   "codemirror_mode": {
    "name": "ipython",
    "version": 3
   },
   "file_extension": ".py",
   "mimetype": "text/x-python",
   "name": "python",
   "nbconvert_exporter": "python",
   "pygments_lexer": "ipython3",
   "version": "3.10.10"
  },
  "orig_nbformat": 4,
  "vscode": {
   "interpreter": {
    "hash": "eb50d9a376658af569da5824a5416ffd44fb085b69b6badc2ac2c8869df562a9"
   }
  }
 },
 "nbformat": 4,
 "nbformat_minor": 2
}
