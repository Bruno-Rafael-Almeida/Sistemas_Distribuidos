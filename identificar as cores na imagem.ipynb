{
 "cells": [
  {
   "cell_type": "code",
   "execution_count": 3,
   "metadata": {},
   "outputs": [
    {
     "ename": "error",
     "evalue": "OpenCV(4.6.0) D:\\a\\opencv-python\\opencv-python\\opencv\\modules\\imgproc\\src\\color.cpp:182: error: (-215:Assertion failed) !_src.empty() in function 'cv::cvtColor'\n",
     "output_type": "error",
     "traceback": [
      "\u001b[1;31m---------------------------------------------------------------------------\u001b[0m",
      "\u001b[1;31merror\u001b[0m                                     Traceback (most recent call last)",
      "Cell \u001b[1;32mIn [3], line 8\u001b[0m\n\u001b[0;32m      5\u001b[0m img \u001b[39m=\u001b[39m cv2\u001b[39m.\u001b[39mimread(\u001b[39m'\u001b[39m\u001b[39mimagem.jpg\u001b[39m\u001b[39m'\u001b[39m)\n\u001b[0;32m      7\u001b[0m \u001b[39m# Converte a imagem para o espaço de cor HSV\u001b[39;00m\n\u001b[1;32m----> 8\u001b[0m hsv \u001b[39m=\u001b[39m cv2\u001b[39m.\u001b[39;49mcvtColor(img, cv2\u001b[39m.\u001b[39;49mCOLOR_BGR2HSV)\n\u001b[0;32m     10\u001b[0m \u001b[39m# Define os limites de cor para a limiarização\u001b[39;00m\n\u001b[0;32m     11\u001b[0m lower_red \u001b[39m=\u001b[39m np\u001b[39m.\u001b[39marray([\u001b[39m0\u001b[39m, \u001b[39m50\u001b[39m, \u001b[39m50\u001b[39m])\n",
      "\u001b[1;31merror\u001b[0m: OpenCV(4.6.0) D:\\a\\opencv-python\\opencv-python\\opencv\\modules\\imgproc\\src\\color.cpp:182: error: (-215:Assertion failed) !_src.empty() in function 'cv::cvtColor'\n"
     ]
    }
   ],
   "source": [
    "import cv2\n",
    "from webcolors import *\n",
    "\n",
    "# Carrega a imagem\n",
    "img = cv2.imread('imagem.jpg')\n",
    "\n",
    "# Converte a imagem para o espaço de cor HSV\n",
    "hsv = cv2.cvtColor(img, cv2.COLOR_BGR2HSV)\n",
    "\n",
    "# Define os limites de cor para a limiarização\n",
    "lower_red = np.array([0, 50, 50])\n",
    "upper_red = np.array([10, 255, 255])\n",
    "\n",
    "# Aplica a limiarização para segmentar o objeto\n",
    "mask = cv2.inRange(hsv, lower_red, upper_red)\n",
    "\n",
    "# Encontra o contorno do objeto segmentado\n",
    "contours, _ = cv2.findContours(mask, cv2.RETR_TREE, cv2.CHAIN_APPROX_SIMPLE)\n",
    "cnt = max(contours, key=cv2.contourArea)\n",
    "\n",
    "# Encontra a cor dominante dentro do objeto segmentado\n",
    "color = get_closest_color(img[cnt[0][0][1], cnt[0][0][0]])\n",
    "\n",
    "# Desenha o contorno do objeto e adiciona o nome da cor na imagem\n",
    "cv2.drawContours(img, [cnt], -1, (0, 255, 0), 2)\n",
    "cv2.putText(img, color, (cnt[0][0][0], cnt[0][0][1]), cv2.FONT_HERSHEY_SIMPLEX, 0.5, (0, 0, 0), 2)\n",
    "\n",
    "# Exibe a imagem resultante\n",
    "cv2.imshow('Imagem', img)\n",
    "cv2.waitKey(0)\n",
    "cv2.destroyAllWindows()\n"
   ]
  }
 ],
 "metadata": {
  "kernelspec": {
   "display_name": "Python 3",
   "language": "python",
   "name": "python3"
  },
  "language_info": {
   "codemirror_mode": {
    "name": "ipython",
    "version": 3
   },
   "file_extension": ".py",
   "mimetype": "text/x-python",
   "name": "python",
   "nbconvert_exporter": "python",
   "pygments_lexer": "ipython3",
   "version": "3.10.8"
  },
  "orig_nbformat": 4,
  "vscode": {
   "interpreter": {
    "hash": "eb50d9a376658af569da5824a5416ffd44fb085b69b6badc2ac2c8869df562a9"
   }
  }
 },
 "nbformat": 4,
 "nbformat_minor": 2
}
