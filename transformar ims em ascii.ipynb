{
 "cells": [
  {
   "cell_type": "code",
   "execution_count": 8,
   "metadata": {},
   "outputs": [
    {
     "ename": "SyntaxError",
     "evalue": "'return' outside function (3357662248.py, line 9)",
     "output_type": "error",
     "traceback": [
      "\u001b[1;36m  Cell \u001b[1;32mIn [8], line 9\u001b[1;36m\u001b[0m\n\u001b[1;33m    return erro\u001b[0m\n\u001b[1;37m    ^\u001b[0m\n\u001b[1;31mSyntaxError\u001b[0m\u001b[1;31m:\u001b[0m 'return' outside function\n"
     ]
    }
   ],
   "source": [
    "from PIL import Image\n",
    "\n",
    "# Tabela ASCII com os caracteres a serem utilizados na conversão\n",
    "ascii_chars = [\"@\", \"#\", \"S\", \"%\", \"?\", \"*\", \"+\", \";\", \":\", \",\", \".\"]\n",
    "erro = \"erro\"\n",
    "\n",
    "# Verifica se a lista ascii_chars tem pelo menos um elemento\n",
    "if not ascii_chars:\n",
    "    return erro\n",
    "\n",
    "# Verifica se a lista de caracteres ASCII tem o mesmo comprimento da lista de pixels\n",
    "if len(ascii_chars) != len(pixels):\n",
    "    return erro\n",
    "\n",
    "# Percorre a lista de pixels e converte cada pixel em um caractere ASCII\n",
    "for pixel in pixels:\n",
    "    ascii_chars_for_pixel = pixel_to_ascii(pixel)\n",
    "    # Verifica se a lista de caracteres ASCII tem pelo menos um elemento para este pixel\n",
    "    if not ascii_chars_for_pixel:\n",
    "        ascii_image += \" \"\n",
    "    else:\n",
    "        # Seleciona o caractere ASCII com índice 0\n",
    "        ascii_image += ascii_chars_for_pixel[0]\n",
    "\n",
    "\n",
    "# Função para converter o valor do pixel em um caractere da tabela ASCII\n",
    "def pixel_to_ascii(pixel):\n",
    "    # Intervalo de valores para cada caractere da tabela ASCII\n",
    "    interval = 255 // len(ascii_chars)\n",
    "    # Índice do caractere correspondente\n",
    "    index = pixel // interval\n",
    "    # Retorna o caractere correspondente\n",
    "    return ascii_chars[index]\n",
    "\n",
    "# Abre a imagem e transforma em escala de cinza\n",
    "image = Image.open(\"teste.jpg\").convert(\"L\")\n",
    "\n",
    "# Obtém as dimensões da imagem\n",
    "width, height = image.size\n",
    "\n",
    "# Cria uma string vazia para armazenar a imagem em caracteres ASCII\n",
    "ascii_image = \"\"\n",
    "\n",
    "# Percorre todos os pixels da imagem e adiciona o caractere correspondente na string\n",
    "for y in range(height):\n",
    "    for x in range(width):\n",
    "        pixel = image.getpixel((x, y))\n",
    "        ascii_image += pixel_to_ascii(pixel)\n",
    "    ascii_image += \"\\n\" # Adiciona uma quebra de linha no final de cada linha da imagem\n",
    "\n",
    "# Imprime a imagem em caracteres ASCII\n",
    "print(ascii_image)\n"
   ]
  }
 ],
 "metadata": {
  "kernelspec": {
   "display_name": "Python 3",
   "language": "python",
   "name": "python3"
  },
  "language_info": {
   "codemirror_mode": {
    "name": "ipython",
    "version": 3
   },
   "file_extension": ".py",
   "mimetype": "text/x-python",
   "name": "python",
   "nbconvert_exporter": "python",
   "pygments_lexer": "ipython3",
   "version": "3.10.10"
  },
  "orig_nbformat": 4,
  "vscode": {
   "interpreter": {
    "hash": "eb50d9a376658af569da5824a5416ffd44fb085b69b6badc2ac2c8869df562a9"
   }
  }
 },
 "nbformat": 4,
 "nbformat_minor": 2
}
